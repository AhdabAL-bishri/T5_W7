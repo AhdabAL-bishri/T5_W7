{
  "nbformat": 4,
  "nbformat_minor": 0,
  "metadata": {
    "colab": {
      "provenance": []
    },
    "kernelspec": {
      "name": "python3",
      "display_name": "Python 3"
    },
    "language_info": {
      "name": "python"
    }
  },
  "cells": [
    {
      "cell_type": "markdown",
      "source": [
        "# Continuous Bag of Words (CBOW) Model"
      ],
      "metadata": {
        "id": "L4G-WdYBozAF"
      }
    },
    {
      "cell_type": "markdown",
      "source": [
        "In this exercise, we will create a CBOW model using a sample Arabic medical corpus. The corpus consists of sentences describing various medical scenarios. The goal of the CBOW model is to predict a target word based on its surrounding context words."
      ],
      "metadata": {
        "id": "RhS9KCVPpSy2"
      }
    },
    {
      "cell_type": "markdown",
      "source": [
        "# Importing Required Libraries"
      ],
      "metadata": {
        "id": "BmX5AlBspz6g"
      }
    },
    {
      "cell_type": "markdown",
      "source": [
        "In this step, we import the necessary libraries to build and train the Continuous Bag of Words (CBOW) model.\n",
        "\n",
        "- **TensorFlow and Keras**: Used to build the neural network model, including the layers like `Embedding`, `Dense`, and `Lambda`.\n",
        "- **Tokenizer**: A utility from Keras for tokenizing and processing text data.\n",
        "- **NumPy**: Used for handling numerical operations, particularly for processing arrays and data manipulation.\n",
        "\n",
        "These libraries will provide the essential tools for text preprocessing and model development in the upcoming steps.\n",
        "\n",
        "Add more if needed!\n"
      ],
      "metadata": {
        "id": "S6Ba2ibzpydu"
      }
    },
    {
      "cell_type": "code",
      "source": [
        "import tensorflow as tf\n",
        "from tensorflow.keras.models import Sequential\n",
        "from tensorflow.keras.layers import Dense, Embedding, Lambda\n",
        "from tensorflow.keras.preprocessing.text import Tokenizer\n",
        "import numpy as np\n"
      ],
      "metadata": {
        "id": "vLFR0MF1p2Y2"
      },
      "execution_count": 1,
      "outputs": []
    },
    {
      "cell_type": "markdown",
      "source": [
        "# Preparing the Corpus"
      ],
      "metadata": {
        "id": "-LHg8WazpVFL"
      }
    },
    {
      "cell_type": "markdown",
      "source": [
        "In this step, we initialize the corpus that will be used for training the Continuous Bag of Words (CBOW) model. The corpus consists of Arabic sentences, each of which describes different traffic scenarios.\n",
        "\n",
        "- **Corpus**: A collection of traffic-related sentences in Arabic.\n",
        "\n",
        "This step sets up the text data that we will use in the upcoming stages of tokenization and model training."
      ],
      "metadata": {
        "id": "aXDrgRcvoliV"
      }
    },
    {
      "cell_type": "code",
      "source": [
        "corpus = [\n",
        "    \"الطريق مزدحم اليوم بسبب الحادث المروري الذي حدث صباحاً ويؤدي إلى تأخير كبير في الوصول\",\n",
        "    \"كان الطريق مزدحما للغاية والسيارات متوقفة تقريباً نتيجة الازدحام الشديد والحركة بطيئة جداً ولا تتحسن\",\n",
        "    \"أنا أحب الذهاب إلى السوق في الصباح الباكر لتفادي الازدحام وشراء الخضروات الطازجة دون الانتظار في الطريق\",\n",
        "    \"السيارات بطيئة بسبب الازدحام المروري في الشارع الرئيسي والتأخير في حركة المرور خلال ساعات الذروة\",\n",
        "    \"هناك ازدحام مروري في الشارع بسبب أعمال البناء والحفريات التي تعطل حركة السيارات وتتسبب في تأخير كبير\",\n",
        "    \"ازدحام السيارات يزداد في المساء عندما يبدأ الجميع بالعودة إلى منازلهم من العمل وتتوقف حركة المرور بالكامل\",\n",
        "    \"الطريق السريع يشهد ازدحاما مستمرا خلال فترة الظهيرة بسبب الشاحنات الكبيرة التي تبطئ حركة السير\",\n",
        "    \"الحافلات والسيارات عالقة في الازدحام المروري في المنطقة التجارية مما يؤدي إلى تأخير وصول الناس إلى وجهاتهم\",\n",
        "    \"حركة المرور مزدحمة اليوم بسبب الفعاليات التي تقام في وسط المدينة مما يزيد من صعوبة الوصول إلى هناك\",\n",
        "    \"كان من الصعب جدا القيادة على الطريق الرئيسي اليوم بسبب الازدحام الخانق الذي استمر طوال اليوم\",\n",
        "    \"الطريق إلى المطار مزدحم اليوم بسبب الحوادث المتكررة والتأخيرات الكبيرة في حركة المرور على الطريق السريع\",\n",
        "    \"الشارع مزدحم بالسيارات والحافلات الكبيرة مما يجعل التنقل بطيئًا جدًا ويزيد من وقت الوصول إلى العمل\",\n",
        "    \"ازدحام السيارات في المدينة أصبح مشكلة كبيرة خاصة خلال ساعات الذروة حيث يصعب التحرك بسرعة\",\n",
        "    \"تفاقم الازدحام في الطرق الجانبية بسبب إغلاق الطريق الرئيسي المؤدي إلى وسط المدينة لصيانة الجسر\",\n",
        "    \"ازدحام مروري خانق يواجه السكان يوميًا خلال تنقلهم من وإلى العمل على الطرق السريعة المؤدية إلى المدينة\",\n",
        "    \"التأخيرات المرورية اليوم ناجمة عن سوء الأحوال الجوية والضباب الذي يعيق الرؤية ويبطئ حركة السيارات\",\n",
        "    \"حوادث السير المتكررة على الطريق الزراعي تؤدي إلى ازدحام مروري شديد وتأخير كبير في وصول السيارات\",\n",
        "    \"كانت حركة السير اليوم غير منتظمة بسبب تنظيم حدث رياضي كبير أدى إلى إغلاق بعض الشوارع الرئيسية\",\n",
        "    \"الأعمال الإنشائية في الشارع الرئيسي تسببت في اختناق مروري كامل وتباطؤ في حركة السيارات خلال النهار\",\n",
        "    \"تراكم السيارات عند تقاطع الطرق الرئيسية أدى إلى ازدحام شديد وزيادة كبيرة في مدة الانتظار للوصول إلى الجهة المطلوبة\"\n",
        "]"
      ],
      "metadata": {
        "id": "qEQJL-CNjjvO"
      },
      "execution_count": 2,
      "outputs": []
    },
    {
      "cell_type": "markdown",
      "source": [
        "# Defining Vocabulary and Model Parameters"
      ],
      "metadata": {
        "id": "TtAp6KPlqBzA"
      }
    },
    {
      "cell_type": "markdown",
      "source": [
        "In this step, we define key parameters that will be used to configure the CBOW model.\n",
        "\n",
        "- **Vocabulary size**: We calculate the size of the vocabulary based on the number of unique words in the corpus. The `vocab_size` represents the total number of unique tokens (words) in the dataset plus one for padding.\n",
        "  \n",
        "- **Embedding size**: The `embedding_size` defines the dimensionality of the word embeddings. In this case, we set the embedding size to 10, meaning each word will be represented as a 10-dimensional vector in the embedding layer.\n",
        "\n",
        "- **Window size**: The `window_size` defines how many words to the left and right of the target word are considered as context. Here, a window size of 2 means that two words before and two words after the target word will be used as context.\n",
        "\n",
        "These parameters will play an essential role in shaping the CBOW model architecture.\n"
      ],
      "metadata": {
        "id": "EOPRl8IfqAHo"
      }
    },
    {
      "cell_type": "code",
      "source": [
        "tokenizer = Tokenizer()\n",
        "tokenizer.fit_on_texts(corpus)\n",
        "Sequences = tokenizer.texts_to_sequences(corpus)"
      ],
      "metadata": {
        "id": "4IErd9-wsE_y"
      },
      "execution_count": 3,
      "outputs": []
    },
    {
      "cell_type": "code",
      "source": [
        "VocabSize = len(tokenizer.word_index) + 1\n",
        "EmbeddingSize = 10\n",
        "WindowSize = 2"
      ],
      "metadata": {
        "id": "icwJ4As2qEkP"
      },
      "execution_count": 4,
      "outputs": []
    },
    {
      "cell_type": "markdown",
      "source": [
        "# Preparing Context-Target Pairs for CBOW"
      ],
      "metadata": {
        "id": "w6b35855qQqP"
      }
    },
    {
      "cell_type": "markdown",
      "source": [
        "In this step, we generate the context-target pairs from the tokenized sequences to train the CBOW model.\n",
        "\n",
        "- **Context words**: For each word in a sequence, the surrounding words (within the window size) are considered as context. The context consists of the words immediately before and after the target word.\n",
        "  \n",
        "- **Target word**: The word in the middle of the context window is treated as the target word that the model will learn to predict.\n",
        "\n",
        "We iterate through each sequence, collecting the context words and corresponding target words:\n",
        "- For each word in a sequence, we gather the surrounding words based on the defined window size.\n",
        "- The middle word is the target, and the surrounding words form the context.\n",
        "\n",
        "Finally:\n",
        "- **`X`**: An array of context words.\n",
        "- **`y`**: The target words are one-hot encoded, which means they are converted into a categorical format where each word is represented as a vector of length equal to the vocabulary size.\n",
        "\n",
        "These context-target pairs will be used to train the CBOW model to predict a target word based on its context.\n"
      ],
      "metadata": {
        "id": "589xXbYmqEuR"
      }
    },
    {
      "cell_type": "code",
      "source": [
        "ContextsWord = []\n",
        "TargetsWord = []\n",
        "\n",
        "for sequence in Sequences:\n",
        "    for i in range(WindowSize,len(sequence)-WindowSize):\n",
        "        Context = sequence[i-WindowSize:i]+ sequence[i+1:i + WindowSize + 1]\n",
        "        Target = sequence[i]\n",
        "        ContextsWord.append(Context)\n",
        "        TargetsWord.append(Target)\n",
        "\n",
        "x = np.array(ContextsWord)\n",
        "y = tf.keras.utils.to_categorical(TargetsWord, num_classes=VocabSize)"
      ],
      "metadata": {
        "id": "c8c1MkYOqSfd"
      },
      "execution_count": 6,
      "outputs": []
    },
    {
      "cell_type": "markdown",
      "source": [
        "# Building and Training the CBOW Model"
      ],
      "metadata": {
        "id": "hgxmB4fZqU1A"
      }
    },
    {
      "cell_type": "markdown",
      "source": [
        "In this step, we build and train the Continuous Bag of Words (CBOW) model using the context-target pairs created earlier.\n",
        "\n",
        "1. **Model architecture**:\n",
        "   - **Embedding layer**: This layer transforms the input context words into dense vector representations (embeddings) of size defined by `embedding_size`. The `input_dim` is set to the vocabulary size, and the `input_length` is twice the window size (since context consists of words from both sides of the target).\n",
        "   \n",
        "   - **Lambda layer**: This layer computes the mean of the context word embeddings. It averages the embeddings of the context words to generate a single representation that will be used to predict the target word.\n",
        "   \n",
        "   - **Dense layer**: This fully connected layer outputs a probability distribution over the vocabulary, using the softmax activation function. It predicts the most likely target word based on the context word embeddings.\n",
        "\n",
        "2. **Compilation**:\n",
        "   The model is compiled using the Adam optimizer and categorical cross-entropy as the loss function, which is suitable for multi-class classification tasks. Accuracy is used as a metric to evaluate the model's performance during training.\n",
        "\n",
        "3. **Training the model**:\n",
        "   The model is trained on the context-target pairs for 500 epochs. During each epoch, the model learns to predict the target word based on the context, refining its weights to improve accuracy.\n",
        "\n",
        "4. **Saving the model weights**:\n",
        "   After training, the model weights are saved to a file (`cbow_model.weights.h5`) for future use. This allows us to load the trained model later without retraining.\n",
        "\n",
        "By the end of this step, the CBOW model will have learned to predict target words based on their surrounding context from the given corpus."
      ],
      "metadata": {
        "id": "QkXe33DgqSvD"
      }
    },
    {
      "cell_type": "code",
      "source": [
        "model = Sequential([\n",
        "    Embedding(input_dim=VocabSize, output_dim=EmbeddingSize, input_length=2*WindowSize),\n",
        "    Lambda(lambda x: tf.reduce_mean(x, axis=1)),\n",
        "    Dense(units=VocabSize, activation='softmax')\n",
        "])\n",
        "\n",
        "model.compile(optimizer='adam', loss='categorical_crossentropy', metrics=['accuracy'])\n",
        "\n",
        "model.fit(x, y, epochs=50, verbose=1)\n",
        "model.save_weights('Taxk1_cbow.weights.h5')"
      ],
      "metadata": {
        "id": "vL3UZZe3qhhh",
        "colab": {
          "base_uri": "https://localhost:8080/"
        },
        "collapsed": true,
        "outputId": "60332ccb-b92a-4352-fcbc-07322edf5453"
      },
      "execution_count": 7,
      "outputs": [
        {
          "output_type": "stream",
          "name": "stdout",
          "text": [
            "Epoch 1/50\n",
            "8/8 [==============================] - 1s 8ms/step - loss: 5.1871 - accuracy: 0.0123\n",
            "Epoch 2/50\n",
            "8/8 [==============================] - 0s 3ms/step - loss: 5.1818 - accuracy: 0.0615\n",
            "Epoch 3/50\n",
            "8/8 [==============================] - 0s 3ms/step - loss: 5.1774 - accuracy: 0.0943\n",
            "Epoch 4/50\n",
            "8/8 [==============================] - 0s 3ms/step - loss: 5.1732 - accuracy: 0.1107\n",
            "Epoch 5/50\n",
            "8/8 [==============================] - 0s 3ms/step - loss: 5.1688 - accuracy: 0.1148\n",
            "Epoch 6/50\n",
            "8/8 [==============================] - 0s 4ms/step - loss: 5.1643 - accuracy: 0.1107\n",
            "Epoch 7/50\n",
            "8/8 [==============================] - 0s 5ms/step - loss: 5.1598 - accuracy: 0.1066\n",
            "Epoch 8/50\n",
            "8/8 [==============================] - 0s 4ms/step - loss: 5.1550 - accuracy: 0.1148\n",
            "Epoch 9/50\n",
            "8/8 [==============================] - 0s 3ms/step - loss: 5.1500 - accuracy: 0.1189\n",
            "Epoch 10/50\n",
            "8/8 [==============================] - 0s 3ms/step - loss: 5.1449 - accuracy: 0.1189\n",
            "Epoch 11/50\n",
            "8/8 [==============================] - 0s 3ms/step - loss: 5.1394 - accuracy: 0.1189\n",
            "Epoch 12/50\n",
            "8/8 [==============================] - 0s 3ms/step - loss: 5.1337 - accuracy: 0.1189\n",
            "Epoch 13/50\n",
            "8/8 [==============================] - 0s 3ms/step - loss: 5.1276 - accuracy: 0.1189\n",
            "Epoch 14/50\n",
            "8/8 [==============================] - 0s 3ms/step - loss: 5.1213 - accuracy: 0.1230\n",
            "Epoch 15/50\n",
            "8/8 [==============================] - 0s 5ms/step - loss: 5.1144 - accuracy: 0.1230\n",
            "Epoch 16/50\n",
            "8/8 [==============================] - 0s 5ms/step - loss: 5.1074 - accuracy: 0.1189\n",
            "Epoch 17/50\n",
            "8/8 [==============================] - 0s 7ms/step - loss: 5.0998 - accuracy: 0.1230\n",
            "Epoch 18/50\n",
            "8/8 [==============================] - 0s 4ms/step - loss: 5.0917 - accuracy: 0.1189\n",
            "Epoch 19/50\n",
            "8/8 [==============================] - 0s 7ms/step - loss: 5.0832 - accuracy: 0.1189\n",
            "Epoch 20/50\n",
            "8/8 [==============================] - 0s 3ms/step - loss: 5.0741 - accuracy: 0.1230\n",
            "Epoch 21/50\n",
            "8/8 [==============================] - 0s 3ms/step - loss: 5.0648 - accuracy: 0.1189\n",
            "Epoch 22/50\n",
            "8/8 [==============================] - 0s 4ms/step - loss: 5.0549 - accuracy: 0.1230\n",
            "Epoch 23/50\n",
            "8/8 [==============================] - 0s 3ms/step - loss: 5.0442 - accuracy: 0.1270\n",
            "Epoch 24/50\n",
            "8/8 [==============================] - 0s 4ms/step - loss: 5.0332 - accuracy: 0.1270\n",
            "Epoch 25/50\n",
            "8/8 [==============================] - 0s 6ms/step - loss: 5.0217 - accuracy: 0.1270\n",
            "Epoch 26/50\n",
            "8/8 [==============================] - 0s 18ms/step - loss: 5.0094 - accuracy: 0.1270\n",
            "Epoch 27/50\n",
            "8/8 [==============================] - 0s 6ms/step - loss: 4.9969 - accuracy: 0.1270\n",
            "Epoch 28/50\n",
            "8/8 [==============================] - 0s 4ms/step - loss: 4.9834 - accuracy: 0.1270\n",
            "Epoch 29/50\n",
            "8/8 [==============================] - 0s 10ms/step - loss: 4.9702 - accuracy: 0.1270\n",
            "Epoch 30/50\n",
            "8/8 [==============================] - 0s 8ms/step - loss: 4.9557 - accuracy: 0.1270\n",
            "Epoch 31/50\n",
            "8/8 [==============================] - 0s 5ms/step - loss: 4.9412 - accuracy: 0.1270\n",
            "Epoch 32/50\n",
            "8/8 [==============================] - 0s 6ms/step - loss: 4.9259 - accuracy: 0.1270\n",
            "Epoch 33/50\n",
            "8/8 [==============================] - 0s 6ms/step - loss: 4.9101 - accuracy: 0.1270\n",
            "Epoch 34/50\n",
            "8/8 [==============================] - 0s 7ms/step - loss: 4.8943 - accuracy: 0.1230\n",
            "Epoch 35/50\n",
            "8/8 [==============================] - 0s 7ms/step - loss: 4.8778 - accuracy: 0.1230\n",
            "Epoch 36/50\n",
            "8/8 [==============================] - 0s 4ms/step - loss: 4.8610 - accuracy: 0.1230\n",
            "Epoch 37/50\n",
            "8/8 [==============================] - 0s 4ms/step - loss: 4.8433 - accuracy: 0.1230\n",
            "Epoch 38/50\n",
            "8/8 [==============================] - 0s 4ms/step - loss: 4.8259 - accuracy: 0.1230\n",
            "Epoch 39/50\n",
            "8/8 [==============================] - 0s 5ms/step - loss: 4.8078 - accuracy: 0.1230\n",
            "Epoch 40/50\n",
            "8/8 [==============================] - 0s 4ms/step - loss: 4.7893 - accuracy: 0.1230\n",
            "Epoch 41/50\n",
            "8/8 [==============================] - 0s 5ms/step - loss: 4.7706 - accuracy: 0.1230\n",
            "Epoch 42/50\n",
            "8/8 [==============================] - 0s 10ms/step - loss: 4.7508 - accuracy: 0.1230\n",
            "Epoch 43/50\n",
            "8/8 [==============================] - 0s 3ms/step - loss: 4.7322 - accuracy: 0.1230\n",
            "Epoch 44/50\n",
            "8/8 [==============================] - 0s 5ms/step - loss: 4.7126 - accuracy: 0.1230\n",
            "Epoch 45/50\n",
            "8/8 [==============================] - 0s 6ms/step - loss: 4.6925 - accuracy: 0.1230\n",
            "Epoch 46/50\n",
            "8/8 [==============================] - 0s 10ms/step - loss: 4.6723 - accuracy: 0.1230\n",
            "Epoch 47/50\n",
            "8/8 [==============================] - 0s 6ms/step - loss: 4.6526 - accuracy: 0.1230\n",
            "Epoch 48/50\n",
            "8/8 [==============================] - 0s 3ms/step - loss: 4.6319 - accuracy: 0.1230\n",
            "Epoch 49/50\n",
            "8/8 [==============================] - 0s 10ms/step - loss: 4.6114 - accuracy: 0.1230\n",
            "Epoch 50/50\n",
            "8/8 [==============================] - 0s 5ms/step - loss: 4.5908 - accuracy: 0.1230\n"
          ]
        }
      ]
    },
    {
      "cell_type": "markdown",
      "source": [
        "# Predicting a Word Using the Trained CBOW Model"
      ],
      "metadata": {
        "id": "mLodiHWkqaL4"
      }
    },
    {
      "cell_type": "markdown",
      "source": [
        "In this step, we define a function to predict a word based on a given context using the trained CBOW model.\n",
        "\n",
        "1. **Function: `predict_word`**:\n",
        "   - **Input**: The function takes a list of context words as input. The number of context words should match the expected size (2 times the window size).\n",
        "   - **Context sequence conversion**: The input context words are tokenized into a sequence of integers using the same tokenizer that was used during training.\n",
        "   - **Input validation**: The function checks whether the length of the context sequence matches the expected size (2 times the window size). If not, it prints an error message.\n",
        "   - **Prediction**: The tokenized context is fed into the trained CBOW model, which predicts the probability distribution over the vocabulary.\n",
        "   - **Retrieve predicted word**: The predicted word is the one with the highest probability. The function retrieves the word corresponding to the predicted index from the tokenizer's word index.\n",
        "\n",
        "2. **Example**:\n",
        "   - We provide a sample context: `['الحادث', 'بسبب', 'مزدحم', 'الطريق']`.\n",
        "   - The function predicts the word that fits best in this context, based on the model's learned weights.\n",
        "   - The predicted word is printed along with the input context.\n",
        "\n",
        "This function allows us to test the CBOW model by predicting words based on their surrounding context from the corpus."
      ],
      "metadata": {
        "id": "_SRP_chYqYKS"
      }
    },
    {
      "cell_type": "code",
      "source": [
        "def predict_word(context_words):\n",
        "    context_sequence = tokenizer.texts_to_sequences([context_words])[0]\n",
        "    if len(context_sequence) != 2 * WindowSize:\n",
        "        print(f\"Needs {2*WindowSize} words.\")\n",
        "        return\n",
        "    context_sequence = np.array([context_sequence])\n",
        "    prediction = model.predict(context_sequence)\n",
        "    predicted_word_index = np.argmax(prediction, axis=1)[0]\n",
        "    print(np.argmax(prediction, axis=1))\n",
        "    print(prediction)\n",
        "    predicted_word = tokenizer.index_word.get(predicted_word_index, \"Unknown\")\n",
        "\n",
        "    return predicted_word\n",
        "context_words = ['الطريق', 'مزدحم', 'بسبب', 'الحادث']\n",
        "predicted_word = predict_word(context_words)\n",
        "print(f\"Predicted word  {context_words} is: {predicted_word}\")"
      ],
      "metadata": {
        "id": "ykhSWJY0qgCI",
        "colab": {
          "base_uri": "https://localhost:8080/"
        },
        "collapsed": true,
        "outputId": "180980c9-d477-4328-e5aa-bbc76a10dfaf"
      },
      "execution_count": 8,
      "outputs": [
        {
          "output_type": "stream",
          "name": "stdout",
          "text": [
            "1/1 [==============================] - 0s 74ms/step\n",
            "[1]\n",
            "[[0.00237164 0.01773728 0.01221708 0.01103164 0.01648136 0.00963395\n",
            "  0.00729193 0.01592526 0.00988508 0.00857877 0.00487389 0.00740743\n",
            "  0.00837671 0.01098856 0.01336756 0.00645476 0.00902755 0.00753865\n",
            "  0.00986301 0.00673621 0.01012113 0.0069576  0.00607786 0.00633704\n",
            "  0.00829059 0.00485417 0.00939501 0.00502195 0.00977667 0.00864959\n",
            "  0.00620919 0.00216445 0.00455942 0.00555054 0.00848267 0.00333625\n",
            "  0.0045382  0.00278474 0.00232131 0.00513986 0.00792569 0.00779272\n",
            "  0.00526548 0.01008391 0.00609294 0.00775027 0.00622614 0.00583462\n",
            "  0.00539253 0.00470206 0.00449743 0.00594338 0.00610734 0.00672976\n",
            "  0.00483643 0.00523671 0.00508926 0.00594381 0.00253915 0.00242973\n",
            "  0.00252449 0.00235886 0.00578228 0.00438535 0.00553486 0.00531044\n",
            "  0.00493562 0.00448648 0.00435078 0.00496016 0.00542593 0.0075032\n",
            "  0.00573272 0.00539732 0.00541992 0.00528915 0.00545668 0.00575821\n",
            "  0.00509035 0.00454938 0.00485182 0.00539902 0.00444446 0.00459264\n",
            "  0.00528565 0.0023885  0.00522063 0.00386768 0.00412462 0.00409856\n",
            "  0.00466169 0.00628193 0.00578484 0.00245947 0.00683127 0.00618093\n",
            "  0.0064389  0.00631953 0.00496705 0.0026711  0.00702626 0.00605485\n",
            "  0.0070895  0.0055383  0.00545893 0.00451332 0.00440671 0.00393064\n",
            "  0.0054717  0.00545828 0.00234981 0.00624876 0.00635397 0.00670315\n",
            "  0.00535819 0.00700237 0.00591419 0.00576146 0.00555139 0.00476383\n",
            "  0.00438125 0.00518967 0.00466152 0.0039423  0.00402392 0.00411753\n",
            "  0.0036837  0.00268233 0.00226193 0.0023445  0.00674152 0.00827857\n",
            "  0.00237624 0.00245863 0.00421771 0.00492102 0.004638   0.00488397\n",
            "  0.00328586 0.00386286 0.00509663 0.00496883 0.00251774 0.00234202\n",
            "  0.00357437 0.00523271 0.0041503  0.0040315  0.00385465 0.00422795\n",
            "  0.00418948 0.00417039 0.00476231 0.00212485 0.00632587 0.00759452\n",
            "  0.0060722  0.00239691 0.00639161 0.00568507 0.00636212 0.00469262\n",
            "  0.00537368 0.00215623 0.00242696 0.00215715 0.00601561 0.00651609\n",
            "  0.00574109 0.00597199 0.00241427 0.00252238 0.0069981  0.0056173\n",
            "  0.00483764 0.00621725 0.0057372  0.00224686 0.00247849]]\n",
            "Predicted word  ['الطريق', 'مزدحم', 'بسبب', 'الحادث'] is: في\n"
          ]
        }
      ]
    },
    {
      "cell_type": "code",
      "source": [],
      "metadata": {
        "id": "8EHE1EeIxrrU"
      },
      "execution_count": null,
      "outputs": []
    }
  ]
}